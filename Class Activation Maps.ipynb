{
 "cells": [
  {
   "cell_type": "code",
   "execution_count": 1,
   "id": "ad600681",
   "metadata": {},
   "outputs": [],
   "source": [
    "import keras\n",
    "from keras.datasets import fashion_mnist\n",
    "import numpy as np\n",
    "import matplotlib.pyplot as plt\n",
    "from keras.models import Sequential,Model\n",
    "from keras.layers import Dense, Conv2D, MaxPooling2D, GlobalAveragePooling2D\n",
    "import scipy as sp"
   ]
  },
  {
   "cell_type": "code",
   "execution_count": 2,
   "id": "e605dcde",
   "metadata": {},
   "outputs": [],
   "source": [
    "# load the Fashion MNIST dataset\n",
    "(X_train,Y_train),(X_test,Y_test)  = fashion_mnist.load_data()"
   ]
  },
  {
   "cell_type": "code",
   "execution_count": 3,
   "id": "0f5b8377",
   "metadata": {},
   "outputs": [],
   "source": [
    "# Put an additional axis for the channels of the image.\n",
    "# Fashion MNIST is grayscale so we place 1 at the end. Other datasets\n",
    "# will need 3 if it's in RGB.\n",
    "X_train = X_train.reshape(60000,28,28,1)\n",
    "X_test = X_test.reshape(10000,28,28,1)\n",
    "\n",
    "# Normalize the pixel values from 0 to 1\n",
    "X_train = X_train/255\n",
    "X_test  = X_test/255\n",
    "\n",
    "# Cast to float\n",
    "X_train = X_train.astype('float')\n",
    "X_test  = X_test.astype('float')"
   ]
  },
  {
   "cell_type": "code",
   "execution_count": 4,
   "id": "6a4666d9",
   "metadata": {},
   "outputs": [],
   "source": [
    "def show_img(img):\n",
    "    '''utility function for reshaping and displaying an image'''\n",
    "\n",
    "    # convert to float array if img is not yet preprocessed\n",
    "    img  = np.array(img,dtype='float')\n",
    "\n",
    "    # remove channel dimension\n",
    "    img = img.reshape((28,28))\n",
    "\n",
    "    # display image\n",
    "    plt.imshow(img)"
   ]
  },
  {
   "cell_type": "code",
   "execution_count": 6,
   "id": "516dc5b3",
   "metadata": {},
   "outputs": [
    {
     "data": {
      "image/png": "[encoded data removed]",
      "text/plain": [
       "<Figure size 432x288 with 1 Axes>"
      ]
     },
     "metadata": {
      "needs_background": "light"
     },
     "output_type": "display_data"
    }
   ],
   "source": [
    "# test the function for the first train image. you can vary the index of X_train\n",
    "# below to see other images\n",
    "\n",
    "show_img(X_train[2])"
   ]
  },
  {
   "cell_type": "code",
   "execution_count": 7,
   "id": "9aff051c",
   "metadata": {},
   "outputs": [
    {
     "name": "stdout",
     "output_type": "stream",
     "text": [
      "Model: \"sequential\"\n",
      "_________________________________________________________________\n",
      " Layer (type)                Output Shape              Param #   \n",
      "=================================================================\n",
      " conv2d (Conv2D)             (None, 28, 28, 16)        160       \n",
      "                                                                 \n",
      " max_pooling2d (MaxPooling2D  (None, 14, 14, 16)       0         \n",
      " )                                                               \n",
      "                                                                 \n",
      " conv2d_1 (Conv2D)           (None, 14, 14, 32)        4640      \n",
      "                                                                 \n",
      " max_pooling2d_1 (MaxPooling  (None, 7, 7, 32)         0         \n",
      " 2D)                                                             \n",
      "                                                                 \n",
      " conv2d_2 (Conv2D)           (None, 7, 7, 64)          18496     \n",
      "                                                                 \n",
      " max_pooling2d_2 (MaxPooling  (None, 3, 3, 64)         0         \n",
      " 2D)                                                             \n",
      "                                                                 \n",
      " conv2d_3 (Conv2D)           (None, 3, 3, 128)         73856     \n",
      "                                                                 \n",
      " global_average_pooling2d (G  (None, 128)              0         \n",
      " lobalAveragePooling2D)                                          \n",
      "                                                                 \n",
      " dense (Dense)               (None, 10)                1290      \n",
      "                                                                 \n",
      "=================================================================\n",
      "Total params: 98,442\n",
      "Trainable params: 98,442\n",
      "Non-trainable params: 0\n",
      "_________________________________________________________________\n"
     ]
    }
   ],
   "source": [
    "# use the Sequential API\n",
    "model = Sequential()\n",
    "\n",
    "# notice the padding parameter to recover the lost border pixels when doing the convolution\n",
    "model.add(Conv2D(16,input_shape=(28,28,1),kernel_size=(3,3),activation='relu',padding='same'))\n",
    "# pooling layer with a stride of 2 will reduce the image dimensions by half\n",
    "model.add(MaxPooling2D(pool_size=(2,2)))\n",
    "\n",
    "# pass through more convolutions with increasing filters\n",
    "model.add(Conv2D(32,kernel_size=(3,3),activation='relu',padding='same'))\n",
    "model.add(MaxPooling2D(pool_size=(2,2)))\n",
    "\n",
    "model.add(Conv2D(64,kernel_size=(3,3),activation='relu',padding='same'))\n",
    "model.add(MaxPooling2D(pool_size=(2,2)))\n",
    "\n",
    "model.add(Conv2D(128,kernel_size=(3,3),activation='relu',padding='same'))\n",
    "\n",
    "# use global average pooling to take into account lesser intensity pixels\n",
    "model.add(GlobalAveragePooling2D())\n",
    "\n",
    "# output class probabilities\n",
    "model.add(Dense(10,activation='softmax'))\n",
    "\n",
    "model.summary()"
   ]
  },
  {
   "cell_type": "code",
   "execution_count": 8,
   "id": "b64df6cf",
   "metadata": {},
   "outputs": [
    {
     "name": "stdout",
     "output_type": "stream",
     "text": [
      "Epoch 1/5\n",
      "1688/1688 [==============================] - 14s 8ms/step - loss: 0.6041 - accuracy: 0.7771 - val_loss: 0.4136 - val_accuracy: 0.8477\n",
      "Epoch 2/5\n",
      "1688/1688 [==============================] - 13s 8ms/step - loss: 0.3625 - accuracy: 0.8674 - val_loss: 0.3247 - val_accuracy: 0.8783\n",
      "Epoch 3/5\n",
      "1688/1688 [==============================] - 13s 8ms/step - loss: 0.3041 - accuracy: 0.8884 - val_loss: 0.2949 - val_accuracy: 0.8912\n",
      "Epoch 4/5\n",
      "1688/1688 [==============================] - 13s 8ms/step - loss: 0.2691 - accuracy: 0.9016 - val_loss: 0.2646 - val_accuracy: 0.9045\n",
      "Epoch 5/5\n",
      "1688/1688 [==============================] - 13s 8ms/step - loss: 0.2424 - accuracy: 0.9115 - val_loss: 0.2645 - val_accuracy: 0.9022\n"
     ]
    },
    {
     "data": {
      "text/plain": [
       "<keras.callbacks.History at 0x1df5c5ce0a0>"
      ]
     },
     "execution_count": 8,
     "metadata": {},
     "output_type": "execute_result"
    }
   ],
   "source": [
    "# configure the training\n",
    "model.compile(loss='sparse_categorical_crossentropy',metrics=['accuracy'],optimizer='adam')\n",
    "\n",
    "# train the model. just run a few epochs for this test run. you can adjust later.\n",
    "model.fit(X_train,Y_train,batch_size=32, epochs=5, validation_split=0.1, shuffle=True)"
   ]
  },
  {
   "cell_type": "markdown",
   "id": "3b87b575",
   "metadata": {},
   "source": [
    "# Generate the Class Activation Map\n",
    "To generate the class Activation map, we want to get the features detected in the last convolution layer and see whiche ones are the most activate when generating the output probablities. "
   ]
  },
  {
   "cell_type": "code",
   "execution_count": 9,
   "id": "9116b471",
   "metadata": {},
   "outputs": [
    {
     "name": "stdout",
     "output_type": "stream",
     "text": [
      "conv2d_3\n",
      "global_average_pooling2d\n",
      "dense\n"
     ]
    }
   ],
   "source": [
    "print(model.layers[-3].name)\n",
    "print(model.layers[-2].name)\n",
    "print(model.layers[-1].name)"
   ]
  },
  {
   "cell_type": "markdown",
   "id": "154cc4e3",
   "metadata": {},
   "source": [
    "## Now create a new Model"
   ]
  },
  {
   "cell_type": "code",
   "execution_count": 12,
   "id": "1ed0fb3b",
   "metadata": {},
   "outputs": [],
   "source": [
    "cam_model=Model(inputs=model.input,outputs=[model.layers[-3].output,model.layers[-1].output])"
   ]
  },
  {
   "cell_type": "code",
   "execution_count": 13,
   "id": "4e60ab42",
   "metadata": {},
   "outputs": [
    {
     "name": "stdout",
     "output_type": "stream",
     "text": [
      "Model: \"model\"\n",
      "_________________________________________________________________\n",
      " Layer (type)                Output Shape              Param #   \n",
      "=================================================================\n",
      " conv2d_input (InputLayer)   [(None, 28, 28, 1)]       0         \n",
      "                                                                 \n",
      " conv2d (Conv2D)             (None, 28, 28, 16)        160       \n",
      "                                                                 \n",
      " max_pooling2d (MaxPooling2D  (None, 14, 14, 16)       0         \n",
      " )                                                               \n",
      "                                                                 \n",
      " conv2d_1 (Conv2D)           (None, 14, 14, 32)        4640      \n",
      "                                                                 \n",
      " max_pooling2d_1 (MaxPooling  (None, 7, 7, 32)         0         \n",
      " 2D)                                                             \n",
      "                                                                 \n",
      " conv2d_2 (Conv2D)           (None, 7, 7, 64)          18496     \n",
      "                                                                 \n",
      " max_pooling2d_2 (MaxPooling  (None, 3, 3, 64)         0         \n",
      " 2D)                                                             \n",
      "                                                                 \n",
      " conv2d_3 (Conv2D)           (None, 3, 3, 128)         73856     \n",
      "                                                                 \n",
      " global_average_pooling2d (G  (None, 128)              0         \n",
      " lobalAveragePooling2D)                                          \n",
      "                                                                 \n",
      " dense (Dense)               (None, 10)                1290      \n",
      "                                                                 \n",
      "=================================================================\n",
      "Total params: 98,442\n",
      "Trainable params: 98,442\n",
      "Non-trainable params: 0\n",
      "_________________________________________________________________\n"
     ]
    }
   ],
   "source": [
    "cam_model.summary()"
   ]
  },
  {
   "cell_type": "code",
   "execution_count": 14,
   "id": "108d48fe",
   "metadata": {},
   "outputs": [],
   "source": [
    "features,results=cam_model.predict(X_test)"
   ]
  },
  {
   "cell_type": "code",
   "execution_count": 16,
   "id": "7123ad5e",
   "metadata": {},
   "outputs": [
    {
     "name": "stdout",
     "output_type": "stream",
     "text": [
      "Features shape (10000, 3, 3, 128)\n",
      "result shape (10000, 10)\n"
     ]
    }
   ],
   "source": [
    "print(f'Features shape {features.shape}')\n",
    "print(f'result shape {results.shape}')"
   ]
  },
  {
   "cell_type": "markdown",
   "id": "2033eb19",
   "metadata": {},
   "source": [
    "You can generate the Class Activation Map(CAM) by getting the dot product of the class activation features and the class activation weights.\n",
    "\n",
    "You will need the weights from the Global Average Pooling layer (GAP) to calculate the activations of each feature given a particular class.\n",
    "- Note that you'll get the weights from the dense layer that follows the global average pooling layer.\n",
    "  - The last conv2D layer has (h,w,depth) of (3 x 3 x 128), so there are 128 features.\n",
    "  - The global average pooling layer collapses the h,w,f (3 x 3 x 128) into a dense layer of 128 neurons (1 neuron per feature).\n",
    "  - The activations from the global average pooling layer get passed to the last dense layer.\n",
    "  - The last dense layer assigns weights to each of those 128 features (for each of the 10 classes),\n",
    "  - So the weights of the last dense layer (which immmediately follows the global average pooling layer) are referred to in this context as the \"weights of the global average pooling layer\".\n",
    "\n",
    "For each of the 10 classes, there are 128 features, so there are 128 feature weights, one weight per feature."
   ]
  },
  {
   "cell_type": "code",
   "execution_count": 18,
   "id": "04e67369",
   "metadata": {},
   "outputs": [
    {
     "name": "stdout",
     "output_type": "stream",
     "text": [
      "gap_weights_l index 0 contains weights  (128, 10)\n",
      "gap_weights_l index 1 contains biases  (10,)\n"
     ]
    }
   ],
   "source": [
    "# Weights of last layer\n",
    "last_dense_layer=cam_model.layers[-1]\n",
    "## Get the weight list, index 0 contains weights, index 1 contains the biases\n",
    "gap_weights_l=last_dense_layer.get_weights()\n",
    "print(\"gap_weights_l index 0 contains weights \", gap_weights_l[0].shape)\n",
    "print(\"gap_weights_l index 1 contains biases \", gap_weights_l[1].shape)"
   ]
  },
  {
   "cell_type": "code",
   "execution_count": 20,
   "id": "d1fc55b3",
   "metadata": {},
   "outputs": [
    {
     "name": "stdout",
     "output_type": "stream",
     "text": [
      "There are 128 Features weights and 10 classes\n"
     ]
    }
   ],
   "source": [
    "## shows the number of features per class, and the total number of classes\n",
    "## Store the weight\n",
    "gap_weight=gap_weights_l[0]\n",
    "\n",
    "print(f'There are {gap_weight.shape[0]} Features weights and {gap_weight.shape[1]} classes')"
   ]
  },
  {
   "cell_type": "code",
   "execution_count": 22,
   "id": "047202b9",
   "metadata": {},
   "outputs": [
    {
     "name": "stdout",
     "output_type": "stream",
     "text": [
      "Features after scaling up (28, 28, 128)\n"
     ]
    }
   ],
   "source": [
    "## Get the features for image at index 0\n",
    "idx=0\n",
    "features_for_img=features[idx,:,:,:]\n",
    "## The Features have height and width of 3 by 3 scale. Scale them up to the original \n",
    "features_for_img_scaled=sp.ndimage.zoom(features_for_img, (28/3,28/3,1),order=2)\n",
    "\n",
    "print(f'Features after scaling up {features_for_img_scaled.shape}')"
   ]
  },
  {
   "cell_type": "markdown",
   "id": "96fc2216",
   "metadata": {},
   "source": [
    "For a particular class (0...9), get the 128 weights.\n",
    "\n",
    "Take the dot product with the scaled features for this selected image with the weights.\n",
    "\n",
    "The shapes are:\n",
    "scaled features: (h,w,depth) of (28 x 28 x 128).\n",
    "weights for one class: 128\n",
    "\n",
    "The dot product produces the class activation map, with the shape equal to the height and width of the image: 28 x 28."
   ]
  },
  {
   "cell_type": "code",
   "execution_count": 25,
   "id": "3c7038ac",
   "metadata": {},
   "outputs": [
    {
     "name": "stdout",
     "output_type": "stream",
     "text": [
      "features_for_img_scaled has shape  (28, 28, 128)\n",
      "gap_weights_for_one_class has shape  (128,)\n",
      "class activation map shape  (28, 28)\n"
     ]
    }
   ],
   "source": [
    "## Select the weights that are used for a specific class (0..9)\n",
    "class_id=0\n",
    "\n",
    "gap_weights_for_one_class=gap_weight[:,class_id]\n",
    "print(\"features_for_img_scaled has shape \", features_for_img_scaled.shape)\n",
    "print(\"gap_weights_for_one_class has shape \", gap_weights_for_one_class.shape)\n",
    "# take the dot product between the scaled features and the weights for one class\n",
    "cam = np.dot(features_for_img_scaled, gap_weights_for_one_class)\n",
    "\n",
    "print(\"class activation map shape \", cam.shape)"
   ]
  },
  {
   "cell_type": "markdown",
   "id": "f179666b",
   "metadata": {},
   "source": [
    "### Conceptual interpretation\n",
    "To think conceptually about what what you're doing and why:\n",
    "- In the 28 x 28 x 128 feature map, each of the 128 feature filters is tailored to look for a specific set of features (for example, a shoelace).  \n",
    "  - The actual features are learned, not selected by you directly.\n",
    "- Each of the 128 weights for a particular class decide how much weight to give to each of the 128 features, for that class.\n",
    "  - For instance, for the \"shoe\" class, it may have a higher weight for the feature filters that look for shoelaces.\n",
    "- At each of the 28 by 28 pixels, you can take the vector of 128 features and compare them with the vector of 128 weights.  \n",
    "  - You can do this comparison with a dot product.\n",
    "  - The dot product results in a scalar value at each pixel.\n",
    "  - Apply this dot product across all of the 28 x 28 pixels.\n",
    "  - The scalar result of the dot product will be larger when the image both has the particular feature (e.g. shoelace), and that feature is also weighted more heavily for the particular class (e.g shoe).\n",
    "  \n",
    "So you've created a matrix with the same number of pixels as the image, where the value at each pixel is higher when that pixel is relevant to the prediction of a particular class."
   ]
  },
  {
   "cell_type": "code",
   "execution_count": 29,
   "id": "872fb9ad",
   "metadata": {},
   "outputs": [],
   "source": [
    "def show_cam(image_index):\n",
    "    '''displays the class activation map of a particular image'''\n",
    "    # takes the features of the chosen image\n",
    "    features_for_img = features[image_index,:,:,:]\n",
    "    # get the class with the highest output probability\n",
    "    prediction = np.argmax(results[image_index])\n",
    "\n",
    "    # get the gap weights at the predicted class\n",
    "    class_activation_weights = gap_weight[:,prediction]\n",
    "\n",
    "    # upsample the features to the image's original size (28 x 28)\n",
    "    class_activation_features = sp.ndimage.zoom(features_for_img, (28/3, 28/3, 1), order=2)\n",
    "\n",
    "    # compute the intensity of each feature in the CAM\n",
    "    cam_output  = np.dot(class_activation_features,class_activation_weights)\n",
    "  \n",
    "    print('Predicted Class = ' +str(prediction)+ ', Probability = ' + str(results[image_index][prediction]))\n",
    "  \n",
    "    # show the upsampled image\n",
    "    plt.imshow(np.squeeze(X_test[image_index],-1), alpha=0.5)\n",
    "  \n",
    "    # strongly classified (95% probability) images will be in green, else red\n",
    "    if results[image_index][prediction]>0.95:\n",
    "        cmap_str = 'Greens'\n",
    "    else:\n",
    "        cmap_str = 'Reds'\n",
    "\n",
    "    # overlay the cam output\n",
    "    plt.imshow(cam_output, cmap=cmap_str, alpha=0.5)\n",
    "\n",
    "    # display the image\n",
    "    plt.show()"
   ]
  },
  {
   "cell_type": "code",
   "execution_count": 30,
   "id": "2312b6f6",
   "metadata": {},
   "outputs": [],
   "source": [
    "def show_maps(desired_class, num_maps):\n",
    "    '''\n",
    "    goes through the first 10,000 test images and generates CAMs \n",
    "    for the first `num_maps`(int) of the `desired_class`(int)\n",
    "    '''\n",
    "\n",
    "    counter = 0\n",
    "\n",
    "    if desired_class < 10:\n",
    "        print(\"please choose a class less than 10\")\n",
    "\n",
    "    # go through the first 10000 images\n",
    "    for i in range(0,10000):\n",
    "        # break if we already displayed the specified number of maps\n",
    "        if counter == num_maps:\n",
    "            break\n",
    "\n",
    "        # images that match the class will be shown\n",
    "        if np.argmax(results[i]) == desired_class:\n",
    "            counter += 1\n",
    "            show_cam(i)"
   ]
  },
  {
   "cell_type": "code",
   "execution_count": 32,
   "id": "1146f1c0",
   "metadata": {},
   "outputs": [
    {
     "name": "stdout",
     "output_type": "stream",
     "text": [
      "please choose a class less than 10\n",
      "Predicted Class = 8, Probability = 0.99998593\n"
     ]
    },
    {
     "data": {
      "image/png": "[encoded data removed]",
      "text/plain": [
       "<Figure size 432x288 with 1 Axes>"
      ]
     },
     "metadata": {
      "needs_background": "light"
     },
     "output_type": "display_data"
    },
    {
     "name": "stdout",
     "output_type": "stream",
     "text": [
      "Predicted Class = 8, Probability = 1.0\n"
     ]
    },
    {
     "data": {
      "image/png": "[encoded data removed]",
      "text/plain": [
       "<Figure size 432x288 with 1 Axes>"
      ]
     },
     "metadata": {
      "needs_background": "light"
     },
     "output_type": "display_data"
    },
    {
     "name": "stdout",
     "output_type": "stream",
     "text": [
      "Predicted Class = 8, Probability = 0.9998652\n"
     ]
    },
    {
     "data": {
      "image/png": "[encoded data removed]",
      "text/plain": [
       "<Figure size 432x288 with 1 Axes>"
      ]
     },
     "metadata": {
      "needs_background": "light"
     },
     "output_type": "display_data"
    },
    {
     "name": "stdout",
     "output_type": "stream",
     "text": [
      "Predicted Class = 8, Probability = 0.9999969\n"
     ]
    },
    {
     "data": {
      "image/png": "[encoded data removed]",
      "text/plain": [
       "<Figure size 432x288 with 1 Axes>"
      ]
     },
     "metadata": {
      "needs_background": "light"
     },
     "output_type": "display_data"
    },
    {
     "name": "stdout",
     "output_type": "stream",
     "text": [
      "Predicted Class = 8, Probability = 0.994371\n"
     ]
    },
    {
     "data": {
      "image/png": "[encoded data removed]",
      "text/plain": [
       "<Figure size 432x288 with 1 Axes>"
      ]
     },
     "metadata": {
      "needs_background": "light"
     },
     "output_type": "display_data"
    },
    {
     "name": "stdout",
     "output_type": "stream",
     "text": [
      "Predicted Class = 8, Probability = 0.99999905\n"
     ]
    },
    {
     "data": {
      "image/png": "[encoded data removed]",
      "text/plain": [
       "<Figure size 432x288 with 1 Axes>"
      ]
     },
     "metadata": {
      "needs_background": "light"
     },
     "output_type": "display_data"
    },
    {
     "name": "stdout",
     "output_type": "stream",
     "text": [
      "Predicted Class = 8, Probability = 0.9999945\n"
     ]
    },
    {
     "data": {
      "image/png": "[encoded data removed]",
      "text/plain": [
       "<Figure size 432x288 with 1 Axes>"
      ]
     },
     "metadata": {
      "needs_background": "light"
     },
     "output_type": "display_data"
    },
    {
     "name": "stdout",
     "output_type": "stream",
     "text": [
      "Predicted Class = 8, Probability = 0.99999464\n"
     ]
    },
    {
     "data": {
      "image/png": "[encoded data removed]",
      "text/plain": [
       "<Figure size 432x288 with 1 Axes>"
      ]
     },
     "metadata": {
      "needs_background": "light"
     },
     "output_type": "display_data"
    },
    {
     "name": "stdout",
     "output_type": "stream",
     "text": [
      "Predicted Class = 8, Probability = 1.0\n"
     ]
    },
    {
     "data": {
      "image/png": "[encoded data removed]",
      "text/plain": [
       "<Figure size 432x288 with 1 Axes>"
      ]
     },
     "metadata": {
      "needs_background": "light"
     },
     "output_type": "display_data"
    },
    {
     "name": "stdout",
     "output_type": "stream",
     "text": [
      "Predicted Class = 8, Probability = 0.99993527\n"
     ]
    },
    {
     "data": {
      "image/png": "[encoded data removed]",
      "text/plain": [
       "<Figure size 432x288 with 1 Axes>"
      ]
     },
     "metadata": {
      "needs_background": "light"
     },
     "output_type": "display_data"
    },
    {
     "name": "stdout",
     "output_type": "stream",
     "text": [
      "Predicted Class = 8, Probability = 0.9999051\n"
     ]
    },
    {
     "data": {
      "image/png": "[encoded data removed]",
      "text/plain": [
       "<Figure size 432x288 with 1 Axes>"
      ]
     },
     "metadata": {
      "needs_background": "light"
     },
     "output_type": "display_data"
    },
    {
     "name": "stdout",
     "output_type": "stream",
     "text": [
      "Predicted Class = 8, Probability = 0.99927944\n"
     ]
    },
    {
     "data": {
      "image/png": "[encoded data removed]",
      "text/plain": [
       "<Figure size 432x288 with 1 Axes>"
      ]
     },
     "metadata": {
      "needs_background": "light"
     },
     "output_type": "display_data"
    },
    {
     "name": "stdout",
     "output_type": "stream",
     "text": [
      "Predicted Class = 8, Probability = 0.99840254\n"
     ]
    },
    {
     "data": {
      "image/png": "[encoded data removed]",
      "text/plain": [
       "<Figure size 432x288 with 1 Axes>"
      ]
     },
     "metadata": {
      "needs_background": "light"
     },
     "output_type": "display_data"
    },
    {
     "name": "stdout",
     "output_type": "stream",
     "text": [
      "Predicted Class = 8, Probability = 0.99992216\n"
     ]
    },
    {
     "data": {
      "image/png": "[encoded data removed]",
      "text/plain": [
       "<Figure size 432x288 with 1 Axes>"
      ]
     },
     "metadata": {
      "needs_background": "light"
     },
     "output_type": "display_data"
    },
    {
     "name": "stdout",
     "output_type": "stream",
     "text": [
      "Predicted Class = 8, Probability = 0.999985\n"
     ]
    },
    {
     "data": {
      "image/png": "[encoded data removed]",
      "text/plain": [
       "<Figure size 432x288 with 1 Axes>"
      ]
     },
     "metadata": {
      "needs_background": "light"
     },
     "output_type": "display_data"
    },
    {
     "name": "stdout",
     "output_type": "stream",
     "text": [
      "Predicted Class = 8, Probability = 1.0\n"
     ]
    },
    {
     "data": {
      "image/png": "[encoded data removed]",
      "text/plain": [
       "<Figure size 432x288 with 1 Axes>"
      ]
     },
     "metadata": {
      "needs_background": "light"
     },
     "output_type": "display_data"
    },
    {
     "name": "stdout",
     "output_type": "stream",
     "text": [
      "Predicted Class = 8, Probability = 0.9996087\n"
     ]
    },
    {
     "data": {
      "image/png": "[encoded data removed]",
      "text/plain": [
       "<Figure size 432x288 with 1 Axes>"
      ]
     },
     "metadata": {
      "needs_background": "light"
     },
     "output_type": "display_data"
    },
    {
     "name": "stdout",
     "output_type": "stream",
     "text": [
      "Predicted Class = 8, Probability = 0.99960274\n"
     ]
    },
    {
     "data": {
      "image/png": "[encoded data removed]",
      "text/plain": [
       "<Figure size 432x288 with 1 Axes>"
      ]
     },
     "metadata": {
      "needs_background": "light"
     },
     "output_type": "display_data"
    },
    {
     "name": "stdout",
     "output_type": "stream",
     "text": [
      "Predicted Class = 8, Probability = 0.99915564\n"
     ]
    },
    {
     "data": {
      "image/png": "[encoded data removed]",
      "text/plain": [
       "<Figure size 432x288 with 1 Axes>"
      ]
     },
     "metadata": {
      "needs_background": "light"
     },
     "output_type": "display_data"
    },
    {
     "name": "stdout",
     "output_type": "stream",
     "text": [
      "Predicted Class = 8, Probability = 0.99874663\n"
     ]
    },
    {
     "data": {
      "image/png": "[encoded data removed]",
      "text/plain": [
       "<Figure size 432x288 with 1 Axes>"
      ]
     },
     "metadata": {
      "needs_background": "light"
     },
     "output_type": "display_data"
    }
   ],
   "source": [
    "show_maps(desired_class=8, num_maps=20)"
   ]
  },
  {
   "cell_type": "markdown",
   "id": "ba321c77",
   "metadata": {},
   "source": [
    "For class 8 (handbag), you'll notice that most of the images have dark spots in the middle and right side.\n",
    "\n",
    "This means that these areas were given less importance when categorizing the image.\n",
    "The other parts such as the outline or handle contribute more when deciding if an image is a handbag or not.\n",
    "Observe the other classes and see if there are also other common areas that the model uses more in determining the class of the image."
   ]
  },
  {
   "cell_type": "code",
   "execution_count": null,
   "id": "87dd111d",
   "metadata": {},
   "outputs": [],
   "source": []
  }
 ],
 "metadata": {
  "hide_input": false,
  "kernelspec": {
   "display_name": "Python 3 (ipykernel)",
   "language": "python",
   "name": "python3"
  },
  "language_info": {
   "codemirror_mode": {
    "name": "ipython",
    "version": 3
   },
   "file_extension": ".py",
   "mimetype": "text/x-python",
   "name": "python",
   "nbconvert_exporter": "python",
   "pygments_lexer": "ipython3",
   "version": "3.9.7"
  }
 },
 "nbformat": 4,
 "nbformat_minor": 5
}
